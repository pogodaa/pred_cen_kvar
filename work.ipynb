{
 "cells": [
  {
   "cell_type": "markdown",
   "metadata": {},
   "source": [
    "Check"
   ]
  },
  {
   "cell_type": "code",
   "execution_count": 1172,
   "metadata": {},
   "outputs": [
    {
     "name": "stdout",
     "output_type": "stream",
     "text": [
      "Data has 11562 rows , 18 columns.\n"
     ]
    }
   ],
   "source": [
    "import numpy as np\n",
    "import pandas as pd\n",
    "import matplotlib.pyplot as plt\n",
    "import seaborn as sns\n",
    "\n",
    "df = pd.read_csv('base_main.csv')\n",
    "print(f'Data has {df.shape[0]} rows , {df.shape[1]} columns.')"
   ]
  },
  {
   "cell_type": "code",
   "execution_count": 1173,
   "metadata": {},
   "outputs": [
    {
     "name": "stdout",
     "output_type": "stream",
     "text": [
      "<class 'pandas.core.frame.DataFrame'>\n",
      "RangeIndex: 11562 entries, 0 to 11561\n",
      "Data columns (total 18 columns):\n",
      " #   Column               Non-Null Count  Dtype  \n",
      "---  ------               --------------  -----  \n",
      " 0   author               11331 non-null  object \n",
      " 1   author_type          11331 non-null  object \n",
      " 2   url                  11562 non-null  object \n",
      " 3   location             11562 non-null  object \n",
      " 4   deal_type            11562 non-null  object \n",
      " 5   accommodation_type   11562 non-null  object \n",
      " 6   floor                11562 non-null  int64  \n",
      " 7   floors_count         11562 non-null  int64  \n",
      " 8   rooms_count          11562 non-null  int64  \n",
      " 9   total_meters         11562 non-null  float64\n",
      " 10  price_per_month      11562 non-null  int64  \n",
      " 11  commissions          11562 non-null  int64  \n",
      " 12  price                11477 non-null  float64\n",
      " 13  district             5829 non-null   object \n",
      " 14  street               9119 non-null   object \n",
      " 15  house_number         10611 non-null  object \n",
      " 16  underground          11303 non-null  object \n",
      " 17  residential_complex  7757 non-null   object \n",
      "dtypes: float64(2), int64(5), object(11)\n",
      "memory usage: 1.6+ MB\n"
     ]
    }
   ],
   "source": [
    "df.info()"
   ]
  },
  {
   "cell_type": "markdown",
   "metadata": {},
   "source": [
    "4istka"
   ]
  },
  {
   "cell_type": "code",
   "execution_count": 1174,
   "metadata": {},
   "outputs": [
    {
     "name": "stdout",
     "output_type": "stream",
     "text": [
      "Updt data has 11 columns.\n"
     ]
    }
   ],
   "source": [
    "df.drop(['author_type', 'author', 'deal_type', 'accommodation_type', 'price_per_month', 'commissions', 'street'], axis=1,inplace=True)\n",
    "print(f'Updt data has {df.shape[1]} columns.')"
   ]
  },
  {
   "cell_type": "code",
   "execution_count": 1175,
   "metadata": {},
   "outputs": [
    {
     "data": {
      "text/html": [
       "<div>\n",
       "<style scoped>\n",
       "    .dataframe tbody tr th:only-of-type {\n",
       "        vertical-align: middle;\n",
       "    }\n",
       "\n",
       "    .dataframe tbody tr th {\n",
       "        vertical-align: top;\n",
       "    }\n",
       "\n",
       "    .dataframe thead th {\n",
       "        text-align: right;\n",
       "    }\n",
       "</style>\n",
       "<table border=\"1\" class=\"dataframe\">\n",
       "  <thead>\n",
       "    <tr style=\"text-align: right;\">\n",
       "      <th></th>\n",
       "      <th>location</th>\n",
       "      <th>residential_complex</th>\n",
       "      <th>district</th>\n",
       "      <th>rooms_count</th>\n",
       "      <th>total_meters</th>\n",
       "      <th>floor</th>\n",
       "      <th>floors_count</th>\n",
       "      <th>underground</th>\n",
       "      <th>price</th>\n",
       "    </tr>\n",
       "  </thead>\n",
       "  <tbody>\n",
       "    <tr>\n",
       "      <th>0</th>\n",
       "      <td>Москва</td>\n",
       "      <td>Клубный город-парк</td>\n",
       "      <td>Хамовники</td>\n",
       "      <td>1</td>\n",
       "      <td>83.3</td>\n",
       "      <td>2</td>\n",
       "      <td>12</td>\n",
       "      <td>Фрунзенская</td>\n",
       "      <td>172590000.0</td>\n",
       "    </tr>\n",
       "    <tr>\n",
       "      <th>1</th>\n",
       "      <td>Москва</td>\n",
       "      <td>Прайм Парк</td>\n",
       "      <td>Хорошевский</td>\n",
       "      <td>1</td>\n",
       "      <td>41.5</td>\n",
       "      <td>9</td>\n",
       "      <td>40</td>\n",
       "      <td>ЦСКА</td>\n",
       "      <td>32000000.0</td>\n",
       "    </tr>\n",
       "    <tr>\n",
       "      <th>2</th>\n",
       "      <td>Москва</td>\n",
       "      <td>NaN</td>\n",
       "      <td>Чертаново Южное</td>\n",
       "      <td>1</td>\n",
       "      <td>33.5</td>\n",
       "      <td>11</td>\n",
       "      <td>12</td>\n",
       "      <td>Улица Академика Янгеля</td>\n",
       "      <td>8000000.0</td>\n",
       "    </tr>\n",
       "    <tr>\n",
       "      <th>3</th>\n",
       "      <td>Москва</td>\n",
       "      <td>Vesper Tverskaya</td>\n",
       "      <td>Тверской</td>\n",
       "      <td>1</td>\n",
       "      <td>57.6</td>\n",
       "      <td>8</td>\n",
       "      <td>9</td>\n",
       "      <td>Маяковская</td>\n",
       "      <td>117936000.0</td>\n",
       "    </tr>\n",
       "    <tr>\n",
       "      <th>4</th>\n",
       "      <td>Москва</td>\n",
       "      <td>Прайм Парк</td>\n",
       "      <td>Хорошевский</td>\n",
       "      <td>1</td>\n",
       "      <td>41.5</td>\n",
       "      <td>13</td>\n",
       "      <td>41</td>\n",
       "      <td>Аэропорт</td>\n",
       "      <td>31000000.0</td>\n",
       "    </tr>\n",
       "  </tbody>\n",
       "</table>\n",
       "</div>"
      ],
      "text/plain": [
       "  location  residential_complex         district  rooms_count  total_meters  \\\n",
       "0   Москва  Клубный город-парк         Хамовники            1          83.3   \n",
       "1   Москва           Прайм Парк      Хорошевский            1          41.5   \n",
       "2   Москва                  NaN  Чертаново Южное            1          33.5   \n",
       "3   Москва     Vesper Tverskaya         Тверской            1          57.6   \n",
       "4   Москва           Прайм Парк      Хорошевский            1          41.5   \n",
       "\n",
       "   floor  floors_count             underground        price  \n",
       "0      2            12             Фрунзенская  172590000.0  \n",
       "1      9            40                    ЦСКА   32000000.0  \n",
       "2     11            12  Улица Академика Янгеля    8000000.0  \n",
       "3      8             9              Маяковская  117936000.0  \n",
       "4     13            41                Аэропорт   31000000.0  "
      ]
     },
     "execution_count": 1175,
     "metadata": {},
     "output_type": "execute_result"
    }
   ],
   "source": [
    "new_order = [\n",
    "      'location',\n",
    "      'residential_complex', \n",
    "      'district', \n",
    "      # 'street', \n",
    "      'rooms_count', \n",
    "      'total_meters', \n",
    "      'floor', \n",
    "      'floors_count', \n",
    "      'underground',\n",
    "      'price'\n",
    "]\n",
    "\n",
    "\n",
    "df = df[new_order]\n",
    "df.head()"
   ]
  },
  {
   "cell_type": "code",
   "execution_count": 1176,
   "metadata": {},
   "outputs": [
    {
     "name": "stdout",
     "output_type": "stream",
     "text": [
      "<class 'pandas.core.frame.DataFrame'>\n",
      "RangeIndex: 11562 entries, 0 to 11561\n",
      "Data columns (total 9 columns):\n",
      " #   Column               Non-Null Count  Dtype  \n",
      "---  ------               --------------  -----  \n",
      " 0   location             11562 non-null  object \n",
      " 1   residential_complex  7757 non-null   object \n",
      " 2   district             5829 non-null   object \n",
      " 3   rooms_count          11562 non-null  int64  \n",
      " 4   total_meters         11562 non-null  float64\n",
      " 5   floor                11562 non-null  int64  \n",
      " 6   floors_count         11562 non-null  int64  \n",
      " 7   underground          11303 non-null  object \n",
      " 8   price                11477 non-null  float64\n",
      "dtypes: float64(2), int64(3), object(4)\n",
      "memory usage: 813.1+ KB\n",
      "\n",
      "\n",
      "Data has 11562 rows , 9 columns.\n"
     ]
    }
   ],
   "source": [
    "df.info()\n",
    "print(f'\\n\\nData has {df.shape[0]} rows , {df.shape[1]} columns.')"
   ]
  },
  {
   "cell_type": "markdown",
   "metadata": {},
   "source": [
    "location, residential_complex, district, underground, price"
   ]
  },
  {
   "cell_type": "code",
   "execution_count": 1177,
   "metadata": {},
   "outputs": [],
   "source": [
    "def replace_nan_zhk(df, column):\n",
    "      df[column] = df[column].fillna('Не указано')\n",
    "      return df\n",
    "\n",
    "def del_nan(df, column):\n",
    "        df = df.dropna(subset=[column])\n",
    "        return df\n",
    "\n",
    "def replace_nan_discrit_rayon(df, column):\n",
    "    if column in df.columns:\n",
    "        for i in range(len(df)):\n",
    "            if pd.isna(df.at[i, column]):  \n",
    "                df.at[i, column] = df.at[i, 'underground'] \n",
    "            else:\n",
    "                df[column] = df[column].fillna('Фрунзенская')\n",
    "\n",
    "    return df\n",
    "\n",
    "df = replace_nan_zhk(df, 'residential_complex')\n",
    "df = replace_nan_discrit_rayon(df, 'district')\n",
    "df = del_nan(df, 'underground')\n",
    "df = del_nan(df, 'price')\n",
    "df['price'] = df['price'].astype(int)\n",
    "\n",
    "df['price_for_m'] = df['price'] // df['total_meters']\n",
    "df['price_for_m'] = df['price_for_m'].astype(int)"
   ]
  },
  {
   "cell_type": "markdown",
   "metadata": {},
   "source": [
    "proverka povtori"
   ]
  },
  {
   "cell_type": "code",
   "execution_count": 1178,
   "metadata": {},
   "outputs": [
    {
     "name": "stdout",
     "output_type": "stream",
     "text": [
      "Кол-во дубликатов:  271\n",
      "Колво удаления дублей: 10952\n"
     ]
    }
   ],
   "source": [
    "num_dublicates = df.duplicated().sum()\n",
    "print('Кол-во дубликатов: ', num_dublicates)\n",
    "\n",
    "if num_dublicates >= 1:\n",
    "      df.drop_duplicates(inplace=True)\n",
    "      print(f'Колво удаления дублей: {df.shape[0]}')"
   ]
  },
  {
   "cell_type": "markdown",
   "metadata": {},
   "source": [
    "proverka Null values"
   ]
  },
  {
   "cell_type": "code",
   "execution_count": 1179,
   "metadata": {},
   "outputs": [
    {
     "name": "stdout",
     "output_type": "stream",
     "text": [
      "Number of Null values: location               0\n",
      "residential_complex    0\n",
      "district               0\n",
      "rooms_count            0\n",
      "total_meters           0\n",
      "floor                  0\n",
      "floors_count           0\n",
      "underground            0\n",
      "price                  0\n",
      "price_for_m            0\n",
      "dtype: int64\n"
     ]
    },
    {
     "data": {
      "image/png": "[encoded data removed]",
      "text/plain": [
       "<Figure size 640x480 with 2 Axes>"
      ]
     },
     "metadata": {},
     "output_type": "display_data"
    }
   ],
   "source": [
    "sns.heatmap(df.isnull(),cmap='cividis')\n",
    "\n",
    "num_nulls=df.isnull().sum()\n",
    "print(\"Number of Null values:\", num_nulls)"
   ]
  },
  {
   "cell_type": "markdown",
   "metadata": {},
   "source": [
    "itog_4istka"
   ]
  },
  {
   "cell_type": "code",
   "execution_count": 1180,
   "metadata": {},
   "outputs": [
    {
     "name": "stdout",
     "output_type": "stream",
     "text": [
      "<class 'pandas.core.frame.DataFrame'>\n",
      "Index: 10952 entries, 0 to 11561\n",
      "Data columns (total 10 columns):\n",
      " #   Column               Non-Null Count  Dtype  \n",
      "---  ------               --------------  -----  \n",
      " 0   location             10952 non-null  object \n",
      " 1   residential_complex  10952 non-null  object \n",
      " 2   district             10952 non-null  object \n",
      " 3   rooms_count          10952 non-null  int64  \n",
      " 4   total_meters         10952 non-null  float64\n",
      " 5   floor                10952 non-null  int64  \n",
      " 6   floors_count         10952 non-null  int64  \n",
      " 7   underground          10952 non-null  object \n",
      " 8   price                10952 non-null  int64  \n",
      " 9   price_for_m          10952 non-null  int64  \n",
      "dtypes: float64(1), int64(5), object(4)\n",
      "memory usage: 941.2+ KB\n",
      "\n",
      "\n",
      "Data has 10952 rows , 10 columns.\n"
     ]
    }
   ],
   "source": [
    "df.info()\n",
    "print(f'\\n\\nData has {df.shape[0]} rows , {df.shape[1]} columns.')\n",
    "df\n",
    "\n",
    "df.to_csv('do_udt_base.csv', index=False, encoding='utf-8')"
   ]
  },
  {
   "cell_type": "markdown",
   "metadata": {},
   "source": [
    "** vyvod vsex kvar krome 1 (check)"
   ]
  },
  {
   "cell_type": "code",
   "execution_count": 1181,
   "metadata": {},
   "outputs": [],
   "source": [
    "def filter_rooms_count_not_equal_to_one(df):\n",
    "    filtered_df = df[df['rooms_count'] != 1] \n",
    "    return filtered_df\n",
    "\n",
    "result_df = filter_rooms_count_not_equal_to_one(df)\n",
    "# result_df"
   ]
  }
 ],
 "metadata": {
  "kernelspec": {
   "display_name": "Python 3",
   "language": "python",
   "name": "python3"
  },
  "language_info": {
   "codemirror_mode": {
    "name": "ipython",
    "version": 3
   },
   "file_extension": ".py",
   "mimetype": "text/x-python",
   "name": "python",
   "nbconvert_exporter": "python",
   "pygments_lexer": "ipython3",
   "version": "3.12.3"
  }
 },
 "nbformat": 4,
 "nbformat_minor": 2
}
